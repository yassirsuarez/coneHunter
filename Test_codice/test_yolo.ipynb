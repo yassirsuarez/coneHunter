{
 "cells": [
  {
   "cell_type": "code",
   "execution_count": null,
   "metadata": {
    "colab": {
     "base_uri": "https://localhost:8080/",
     "height": 73
    },
    "executionInfo": {
     "elapsed": 10230,
     "status": "ok",
     "timestamp": 1748255557708,
     "user": {
      "displayName": "yassir suarez",
      "userId": "13914100565808298130"
     },
     "user_tz": -120
    },
    "id": "bXWEIGobLgpe",
    "outputId": "ef8a74ac-82de-4592-e34a-fb98262f5889"
   },
   "outputs": [],
   "source": [
    "from google.colab import files\n",
    "\n",
    "# Ti permette di caricare il file dal tuo computer\n",
    "uploaded = files.upload()\n"
   ]
  },
  {
   "cell_type": "code",
   "execution_count": null,
   "metadata": {
    "colab": {
     "base_uri": "https://localhost:8080/"
    },
    "collapsed": true,
    "executionInfo": {
     "elapsed": 102351,
     "status": "ok",
     "timestamp": 1748255686091,
     "user": {
      "displayName": "yassir suarez",
      "userId": "13914100565808298130"
     },
     "user_tz": -120
    },
    "id": "0hXLSoCULlmw",
    "outputId": "a5d7d215-ff51-486f-ca31-18c79296a0c6"
   },
   "outputs": [],
   "source": [
    "!pip install ultralytics\n",
    "from ultralytics import YOLO\n",
    "\n",
    "# Carica il modello\n",
    "model = YOLO(\"best.pt\")\n",
    "\n"
   ]
  },
  {
   "cell_type": "code",
   "execution_count": null,
   "metadata": {
    "colab": {
     "base_uri": "https://localhost:8080/",
     "height": 73
    },
    "executionInfo": {
     "elapsed": 41385,
     "status": "ok",
     "timestamp": 1748254859420,
     "user": {
      "displayName": "yassir suarez",
      "userId": "13914100565808298130"
     },
     "user_tz": -120
    },
    "id": "TaprP4E-LoAO",
    "outputId": "d8b0b69a-a157-4c38-8ab4-21a490d1e0a0"
   },
   "outputs": [],
   "source": [
    "uploaded = files.upload()  # seleziona immagine_di_test.jpg\n"
   ]
  },
  {
   "cell_type": "code",
   "execution_count": null,
   "metadata": {
    "colab": {
     "base_uri": "https://localhost:8080/",
     "height": 713,
     "output_embedded_package_id": "1rWZc_WCLSbNGkcT4g3v512RQJuZ5KwfE"
    },
    "executionInfo": {
     "elapsed": 7677,
     "status": "ok",
     "timestamp": 1748254887503,
     "user": {
      "displayName": "yassir suarez",
      "userId": "13914100565808298130"
     },
     "user_tz": -120
    },
    "id": "rqdzMysHMbBW",
    "outputId": "0e518d2b-1a22-4331-8047-255c8297f8fe"
   },
   "outputs": [],
   "source": [
    "# Inferenza su un'immagine (deve essere nel file system)\n",
    "results = model(\"BME_01159.jpg\")\n",
    "\n",
    "# Mostra e salva il risultato\n",
    "results[0].show()\n",
    "results[0].save(filename=\"output.jpg\")"
   ]
  },
  {
   "cell_type": "markdown",
   "metadata": {
    "id": "G3NItp35yTVJ"
   },
   "source": []
  },
  {
   "cell_type": "code",
   "execution_count": null,
   "metadata": {
    "colab": {
     "base_uri": "https://localhost:8080/"
    },
    "executionInfo": {
     "elapsed": 5902,
     "status": "ok",
     "timestamp": 1748255691996,
     "user": {
      "displayName": "yassir suarez",
      "userId": "13914100565808298130"
     },
     "user_tz": -120
    },
    "id": "7YPR1_5YogQh",
    "outputId": "a7f1fb17-4ded-4a4b-8c8d-c77485334f06"
   },
   "outputs": [],
   "source": [
    "!pip install torch torchvision opencv-python\n",
    "import torch\n",
    "import cv2\n",
    "import numpy as np\n",
    "from IPython.display import display, clear_output\n",
    "import matplotlib.pyplot as plt\n",
    "\n"
   ]
  },
  {
   "cell_type": "code",
   "execution_count": null,
   "metadata": {
    "colab": {
     "base_uri": "https://localhost:8080/",
     "height": 73
    },
    "executionInfo": {
     "elapsed": 61332,
     "status": "ok",
     "timestamp": 1748255753331,
     "user": {
      "displayName": "yassir suarez",
      "userId": "13914100565808298130"
     },
     "user_tz": -120
    },
    "id": "zEAPjTFBo5MT",
    "outputId": "a194c632-62b1-48c9-e8bb-4c2f5ae78ffd"
   },
   "outputs": [],
   "source": [
    "from google.colab import files\n",
    "\n",
    "# Carica video\n",
    "uploaded_video = files.upload()  # carica il video .mp4\n"
   ]
  },
  {
   "cell_type": "code",
   "execution_count": null,
   "metadata": {
    "colab": {
     "base_uri": "https://localhost:8080/"
    },
    "executionInfo": {
     "elapsed": 77641,
     "status": "ok",
     "timestamp": 1748255847721,
     "user": {
      "displayName": "yassir suarez",
      "userId": "13914100565808298130"
     },
     "user_tz": -120
    },
    "id": "WrhwhzsOqvgP",
    "outputId": "2664c325-b8b1-4a6a-cc67-4c9adfcc4a65"
   },
   "outputs": [],
   "source": [
    "results = model.predict(source=\"prova.mp4\", save=True)  # \"source=0\" per webcam\n"
   ]
  }
 ],
 "metadata": {
  "accelerator": "GPU",
  "colab": {
   "gpuType": "T4",
   "provenance": []
  },
  "kernelspec": {
   "display_name": "Python 3",
   "name": "python3"
  },
  "language_info": {
   "codemirror_mode": {
    "name": "ipython",
    "version": 3
   },
   "file_extension": ".py",
   "mimetype": "text/x-python",
   "name": "python",
   "nbconvert_exporter": "python",
   "pygments_lexer": "ipython3",
   "version": "3.12.6"
  }
 },
 "nbformat": 4,
 "nbformat_minor": 0
}
